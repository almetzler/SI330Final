{
 "cells": [
  {
   "cell_type": "markdown",
   "metadata": {},
   "source": [
    "Look at budets of all the imbd over time. budget winners. One visualization we could do is a scatter plot comparing budget to IMDB/Rotten Tomato ratings, and we could highlight the movies that won awards. "
   ]
  },
  {
   "cell_type": "markdown",
   "metadata": {},
   "source": [
    "Do better funded movies receive more awards/nominations? Do better funded movies receive higher ratings?Is there a relationship between gross income for a movie and rating or public perception?"
   ]
  },
  {
   "cell_type": "code",
   "execution_count": null,
   "metadata": {},
   "outputs": [],
   "source": []
  }
 ],
 "metadata": {
  "kernelspec": {
   "display_name": "",
   "name": ""
  },
  "language_info": {
   "name": ""
  }
 },
 "nbformat": 4,
 "nbformat_minor": 4
}
