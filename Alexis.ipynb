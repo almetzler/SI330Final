{
 "cells": [
  {
   "cell_type": "markdown",
   "metadata": {},
   "source": [
    "age group vs imdb rating scatter plot\n",
    "\n",
    "genre vs imdb rating set of histograms"
   ]
  },
  {
   "cell_type": "code",
   "execution_count": 1,
   "metadata": {},
   "outputs": [],
   "source": [
    "import pandas as pd\n",
    "import numpy as np\n",
    "import matplotlib.pyplot as plt"
   ]
  },
  {
   "cell_type": "code",
   "execution_count": 2,
   "metadata": {},
   "outputs": [
    {
     "name": "stderr",
     "output_type": "stream",
     "text": [
      "/opt/conda/lib/python3.7/site-packages/IPython/core/interactiveshell.py:3058: DtypeWarning: Columns (3) have mixed types. Specify dtype option on import or set low_memory=False.\n",
      "  interactivity=interactivity, compiler=compiler, result=result)\n"
     ]
    },
    {
     "data": {
      "text/html": [
       "<div>\n",
       "<style scoped>\n",
       "    .dataframe tbody tr th:only-of-type {\n",
       "        vertical-align: middle;\n",
       "    }\n",
       "\n",
       "    .dataframe tbody tr th {\n",
       "        vertical-align: top;\n",
       "    }\n",
       "\n",
       "    .dataframe thead th {\n",
       "        text-align: right;\n",
       "    }\n",
       "</style>\n",
       "<table border=\"1\" class=\"dataframe\">\n",
       "  <thead>\n",
       "    <tr style=\"text-align: right;\">\n",
       "      <th></th>\n",
       "      <th>imdb_title_id</th>\n",
       "      <th>title</th>\n",
       "      <th>original_title</th>\n",
       "      <th>year</th>\n",
       "      <th>date_published</th>\n",
       "      <th>genre</th>\n",
       "      <th>duration</th>\n",
       "      <th>country</th>\n",
       "      <th>language</th>\n",
       "      <th>director</th>\n",
       "      <th>...</th>\n",
       "      <th>actors</th>\n",
       "      <th>description</th>\n",
       "      <th>avg_vote</th>\n",
       "      <th>votes</th>\n",
       "      <th>budget</th>\n",
       "      <th>usa_gross_income</th>\n",
       "      <th>worlwide_gross_income</th>\n",
       "      <th>metascore</th>\n",
       "      <th>reviews_from_users</th>\n",
       "      <th>reviews_from_critics</th>\n",
       "    </tr>\n",
       "  </thead>\n",
       "  <tbody>\n",
       "    <tr>\n",
       "      <th>0</th>\n",
       "      <td>tt0000009</td>\n",
       "      <td>Miss Jerry</td>\n",
       "      <td>Miss Jerry</td>\n",
       "      <td>1894</td>\n",
       "      <td>1894-10-09</td>\n",
       "      <td>Romance</td>\n",
       "      <td>45</td>\n",
       "      <td>USA</td>\n",
       "      <td>None</td>\n",
       "      <td>Alexander Black</td>\n",
       "      <td>...</td>\n",
       "      <td>Blanche Bayliss, William Courtenay, Chauncey D...</td>\n",
       "      <td>The adventures of a female reporter in the 1890s.</td>\n",
       "      <td>5.9</td>\n",
       "      <td>154</td>\n",
       "      <td>NaN</td>\n",
       "      <td>NaN</td>\n",
       "      <td>NaN</td>\n",
       "      <td>NaN</td>\n",
       "      <td>1.0</td>\n",
       "      <td>2.0</td>\n",
       "    </tr>\n",
       "    <tr>\n",
       "      <th>1</th>\n",
       "      <td>tt0000574</td>\n",
       "      <td>The Story of the Kelly Gang</td>\n",
       "      <td>The Story of the Kelly Gang</td>\n",
       "      <td>1906</td>\n",
       "      <td>1906-12-26</td>\n",
       "      <td>Biography, Crime, Drama</td>\n",
       "      <td>70</td>\n",
       "      <td>Australia</td>\n",
       "      <td>None</td>\n",
       "      <td>Charles Tait</td>\n",
       "      <td>...</td>\n",
       "      <td>Elizabeth Tait, John Tait, Norman Campbell, Be...</td>\n",
       "      <td>True story of notorious Australian outlaw Ned ...</td>\n",
       "      <td>6.1</td>\n",
       "      <td>589</td>\n",
       "      <td>$ 2250</td>\n",
       "      <td>NaN</td>\n",
       "      <td>NaN</td>\n",
       "      <td>NaN</td>\n",
       "      <td>7.0</td>\n",
       "      <td>7.0</td>\n",
       "    </tr>\n",
       "    <tr>\n",
       "      <th>2</th>\n",
       "      <td>tt0001892</td>\n",
       "      <td>Den sorte drøm</td>\n",
       "      <td>Den sorte drøm</td>\n",
       "      <td>1911</td>\n",
       "      <td>1911-08-19</td>\n",
       "      <td>Drama</td>\n",
       "      <td>53</td>\n",
       "      <td>Germany, Denmark</td>\n",
       "      <td>NaN</td>\n",
       "      <td>Urban Gad</td>\n",
       "      <td>...</td>\n",
       "      <td>Asta Nielsen, Valdemar Psilander, Gunnar Helse...</td>\n",
       "      <td>Two men of high rank are both wooing the beaut...</td>\n",
       "      <td>5.8</td>\n",
       "      <td>188</td>\n",
       "      <td>NaN</td>\n",
       "      <td>NaN</td>\n",
       "      <td>NaN</td>\n",
       "      <td>NaN</td>\n",
       "      <td>5.0</td>\n",
       "      <td>2.0</td>\n",
       "    </tr>\n",
       "    <tr>\n",
       "      <th>3</th>\n",
       "      <td>tt0002101</td>\n",
       "      <td>Cleopatra</td>\n",
       "      <td>Cleopatra</td>\n",
       "      <td>1912</td>\n",
       "      <td>1912-11-13</td>\n",
       "      <td>Drama, History</td>\n",
       "      <td>100</td>\n",
       "      <td>USA</td>\n",
       "      <td>English</td>\n",
       "      <td>Charles L. Gaskill</td>\n",
       "      <td>...</td>\n",
       "      <td>Helen Gardner, Pearl Sindelar, Miss Fielding, ...</td>\n",
       "      <td>The fabled queen of Egypt's affair with Roman ...</td>\n",
       "      <td>5.2</td>\n",
       "      <td>446</td>\n",
       "      <td>$ 45000</td>\n",
       "      <td>NaN</td>\n",
       "      <td>NaN</td>\n",
       "      <td>NaN</td>\n",
       "      <td>25.0</td>\n",
       "      <td>3.0</td>\n",
       "    </tr>\n",
       "    <tr>\n",
       "      <th>4</th>\n",
       "      <td>tt0002130</td>\n",
       "      <td>L'Inferno</td>\n",
       "      <td>L'Inferno</td>\n",
       "      <td>1911</td>\n",
       "      <td>1911-03-06</td>\n",
       "      <td>Adventure, Drama, Fantasy</td>\n",
       "      <td>68</td>\n",
       "      <td>Italy</td>\n",
       "      <td>Italian</td>\n",
       "      <td>Francesco Bertolini, Adolfo Padovan</td>\n",
       "      <td>...</td>\n",
       "      <td>Salvatore Papa, Arturo Pirovano, Giuseppe de L...</td>\n",
       "      <td>Loosely adapted from Dante's Divine Comedy and...</td>\n",
       "      <td>7.0</td>\n",
       "      <td>2237</td>\n",
       "      <td>NaN</td>\n",
       "      <td>NaN</td>\n",
       "      <td>NaN</td>\n",
       "      <td>NaN</td>\n",
       "      <td>31.0</td>\n",
       "      <td>14.0</td>\n",
       "    </tr>\n",
       "  </tbody>\n",
       "</table>\n",
       "<p>5 rows × 22 columns</p>\n",
       "</div>"
      ],
      "text/plain": [
       "  imdb_title_id                        title               original_title  \\\n",
       "0     tt0000009                   Miss Jerry                   Miss Jerry   \n",
       "1     tt0000574  The Story of the Kelly Gang  The Story of the Kelly Gang   \n",
       "2     tt0001892               Den sorte drøm               Den sorte drøm   \n",
       "3     tt0002101                    Cleopatra                    Cleopatra   \n",
       "4     tt0002130                    L'Inferno                    L'Inferno   \n",
       "\n",
       "   year date_published                      genre  duration           country  \\\n",
       "0  1894     1894-10-09                    Romance        45               USA   \n",
       "1  1906     1906-12-26    Biography, Crime, Drama        70         Australia   \n",
       "2  1911     1911-08-19                      Drama        53  Germany, Denmark   \n",
       "3  1912     1912-11-13             Drama, History       100               USA   \n",
       "4  1911     1911-03-06  Adventure, Drama, Fantasy        68             Italy   \n",
       "\n",
       "  language                             director  ...  \\\n",
       "0     None                      Alexander Black  ...   \n",
       "1     None                         Charles Tait  ...   \n",
       "2      NaN                            Urban Gad  ...   \n",
       "3  English                   Charles L. Gaskill  ...   \n",
       "4  Italian  Francesco Bertolini, Adolfo Padovan  ...   \n",
       "\n",
       "                                              actors  \\\n",
       "0  Blanche Bayliss, William Courtenay, Chauncey D...   \n",
       "1  Elizabeth Tait, John Tait, Norman Campbell, Be...   \n",
       "2  Asta Nielsen, Valdemar Psilander, Gunnar Helse...   \n",
       "3  Helen Gardner, Pearl Sindelar, Miss Fielding, ...   \n",
       "4  Salvatore Papa, Arturo Pirovano, Giuseppe de L...   \n",
       "\n",
       "                                         description avg_vote votes   budget  \\\n",
       "0  The adventures of a female reporter in the 1890s.      5.9   154      NaN   \n",
       "1  True story of notorious Australian outlaw Ned ...      6.1   589   $ 2250   \n",
       "2  Two men of high rank are both wooing the beaut...      5.8   188      NaN   \n",
       "3  The fabled queen of Egypt's affair with Roman ...      5.2   446  $ 45000   \n",
       "4  Loosely adapted from Dante's Divine Comedy and...      7.0  2237      NaN   \n",
       "\n",
       "   usa_gross_income worlwide_gross_income metascore reviews_from_users  \\\n",
       "0               NaN                   NaN       NaN                1.0   \n",
       "1               NaN                   NaN       NaN                7.0   \n",
       "2               NaN                   NaN       NaN                5.0   \n",
       "3               NaN                   NaN       NaN               25.0   \n",
       "4               NaN                   NaN       NaN               31.0   \n",
       "\n",
       "   reviews_from_critics  \n",
       "0                   2.0  \n",
       "1                   7.0  \n",
       "2                   2.0  \n",
       "3                   3.0  \n",
       "4                  14.0  \n",
       "\n",
       "[5 rows x 22 columns]"
      ]
     },
     "execution_count": 2,
     "metadata": {},
     "output_type": "execute_result"
    }
   ],
   "source": [
    "streaming = pd.read_csv('MoviesOnStreamingPlatforms_updated.csv').set_index('ID').drop('Unnamed: 0', axis = 1)\n",
    "imdb = pd.read_csv('imdb.csv')\n",
    "imdb['date_published'] = pd.to_datetime(imdb['date_published'], errors = 'coerce')\n",
    "imdb.head()"
   ]
  },
  {
   "cell_type": "code",
   "execution_count": 3,
   "metadata": {},
   "outputs": [
    {
     "name": "stderr",
     "output_type": "stream",
     "text": [
      "/opt/conda/lib/python3.7/site-packages/ipykernel_launcher.py:3: SettingWithCopyWarning: \n",
      "A value is trying to be set on a copy of a slice from a DataFrame.\n",
      "Try using .loc[row_indexer,col_indexer] = value instead\n",
      "\n",
      "See the caveats in the documentation: http://pandas.pydata.org/pandas-docs/stable/user_guide/indexing.html#returning-a-view-versus-a-copy\n",
      "  This is separate from the ipykernel package so we can avoid doing imports until\n"
     ]
    }
   ],
   "source": [
    "imdb_subset = imdb[['title','original_title','date_published','avg_vote','budget','usa_gross_income','worlwide_gross_income']]\n",
    "streaming_subset = streaming[['Title','Genres','Age','Runtime','Country']]\n",
    "streaming_subset['Streaming'] = streaming[['Netflix','Hulu','Prime Video','Disney+']].apply(sum,axis = 1)"
   ]
  },
  {
   "cell_type": "code",
   "execution_count": 4,
   "metadata": {},
   "outputs": [],
   "source": [
    "joined = pd.merge(streaming_subset,imdb_subset, how = 'inner',right_on = 'original_title',left_on = 'Title')"
   ]
  },
  {
   "cell_type": "code",
   "execution_count": 5,
   "metadata": {},
   "outputs": [
    {
     "data": {
      "text/html": [
       "<div>\n",
       "<style scoped>\n",
       "    .dataframe tbody tr th:only-of-type {\n",
       "        vertical-align: middle;\n",
       "    }\n",
       "\n",
       "    .dataframe tbody tr th {\n",
       "        vertical-align: top;\n",
       "    }\n",
       "\n",
       "    .dataframe thead th {\n",
       "        text-align: right;\n",
       "    }\n",
       "</style>\n",
       "<table border=\"1\" class=\"dataframe\">\n",
       "  <thead>\n",
       "    <tr style=\"text-align: right;\">\n",
       "      <th></th>\n",
       "      <th>Title</th>\n",
       "      <th>Genres</th>\n",
       "      <th>Age</th>\n",
       "      <th>Runtime</th>\n",
       "      <th>Country</th>\n",
       "      <th>Streaming</th>\n",
       "      <th>title</th>\n",
       "      <th>original_title</th>\n",
       "      <th>date_published</th>\n",
       "      <th>avg_vote</th>\n",
       "      <th>budget</th>\n",
       "      <th>usa_gross_income</th>\n",
       "      <th>worlwide_gross_income</th>\n",
       "    </tr>\n",
       "  </thead>\n",
       "  <tbody>\n",
       "    <tr>\n",
       "      <th>0</th>\n",
       "      <td>Inception</td>\n",
       "      <td>Action,Adventure,Sci-Fi,Thriller</td>\n",
       "      <td>13+</td>\n",
       "      <td>148.0</td>\n",
       "      <td>United States,United Kingdom</td>\n",
       "      <td>1</td>\n",
       "      <td>Inception</td>\n",
       "      <td>Inception</td>\n",
       "      <td>2010-09-24</td>\n",
       "      <td>8.8</td>\n",
       "      <td>$ 160000000</td>\n",
       "      <td>$ 292576195</td>\n",
       "      <td>$ 869784991</td>\n",
       "    </tr>\n",
       "    <tr>\n",
       "      <th>1</th>\n",
       "      <td>The Matrix</td>\n",
       "      <td>Action,Sci-Fi</td>\n",
       "      <td>18+</td>\n",
       "      <td>136.0</td>\n",
       "      <td>United States</td>\n",
       "      <td>1</td>\n",
       "      <td>Matrix</td>\n",
       "      <td>The Matrix</td>\n",
       "      <td>1999-05-07</td>\n",
       "      <td>8.7</td>\n",
       "      <td>$ 63000000</td>\n",
       "      <td>$ 171479930</td>\n",
       "      <td>$ 465718588</td>\n",
       "    </tr>\n",
       "    <tr>\n",
       "      <th>2</th>\n",
       "      <td>Avengers: Infinity War</td>\n",
       "      <td>Action,Adventure,Sci-Fi</td>\n",
       "      <td>13+</td>\n",
       "      <td>149.0</td>\n",
       "      <td>United States</td>\n",
       "      <td>1</td>\n",
       "      <td>Avengers: Infinity War</td>\n",
       "      <td>Avengers: Infinity War</td>\n",
       "      <td>2018-04-25</td>\n",
       "      <td>8.4</td>\n",
       "      <td>$ 321000000</td>\n",
       "      <td>$ 678815482</td>\n",
       "      <td>$ 2048359754</td>\n",
       "    </tr>\n",
       "    <tr>\n",
       "      <th>3</th>\n",
       "      <td>Back to the Future</td>\n",
       "      <td>Adventure,Comedy,Sci-Fi</td>\n",
       "      <td>7+</td>\n",
       "      <td>116.0</td>\n",
       "      <td>United States</td>\n",
       "      <td>1</td>\n",
       "      <td>Ritorno al futuro</td>\n",
       "      <td>Back to the Future</td>\n",
       "      <td>1985-10-18</td>\n",
       "      <td>8.5</td>\n",
       "      <td>$ 19000000</td>\n",
       "      <td>$ 211406762</td>\n",
       "      <td>$ 388774684</td>\n",
       "    </tr>\n",
       "    <tr>\n",
       "      <th>4</th>\n",
       "      <td>Spider-Man: Into the Spider-Verse</td>\n",
       "      <td>Animation,Action,Adventure,Family,Sci-Fi</td>\n",
       "      <td>7+</td>\n",
       "      <td>117.0</td>\n",
       "      <td>United States</td>\n",
       "      <td>1</td>\n",
       "      <td>Spider-Man: Un nuovo universo</td>\n",
       "      <td>Spider-Man: Into the Spider-Verse</td>\n",
       "      <td>2018-12-25</td>\n",
       "      <td>8.4</td>\n",
       "      <td>$ 90000000</td>\n",
       "      <td>$ 190241310</td>\n",
       "      <td>$ 375540831</td>\n",
       "    </tr>\n",
       "  </tbody>\n",
       "</table>\n",
       "</div>"
      ],
      "text/plain": [
       "                               Title  \\\n",
       "0                          Inception   \n",
       "1                         The Matrix   \n",
       "2             Avengers: Infinity War   \n",
       "3                 Back to the Future   \n",
       "4  Spider-Man: Into the Spider-Verse   \n",
       "\n",
       "                                     Genres  Age  Runtime  \\\n",
       "0          Action,Adventure,Sci-Fi,Thriller  13+    148.0   \n",
       "1                             Action,Sci-Fi  18+    136.0   \n",
       "2                   Action,Adventure,Sci-Fi  13+    149.0   \n",
       "3                   Adventure,Comedy,Sci-Fi   7+    116.0   \n",
       "4  Animation,Action,Adventure,Family,Sci-Fi   7+    117.0   \n",
       "\n",
       "                        Country  Streaming                          title  \\\n",
       "0  United States,United Kingdom          1                      Inception   \n",
       "1                 United States          1                         Matrix   \n",
       "2                 United States          1         Avengers: Infinity War   \n",
       "3                 United States          1              Ritorno al futuro   \n",
       "4                 United States          1  Spider-Man: Un nuovo universo   \n",
       "\n",
       "                      original_title date_published  avg_vote       budget  \\\n",
       "0                          Inception     2010-09-24       8.8  $ 160000000   \n",
       "1                         The Matrix     1999-05-07       8.7   $ 63000000   \n",
       "2             Avengers: Infinity War     2018-04-25       8.4  $ 321000000   \n",
       "3                 Back to the Future     1985-10-18       8.5   $ 19000000   \n",
       "4  Spider-Man: Into the Spider-Verse     2018-12-25       8.4   $ 90000000   \n",
       "\n",
       "  usa_gross_income worlwide_gross_income  \n",
       "0      $ 292576195           $ 869784991  \n",
       "1      $ 171479930           $ 465718588  \n",
       "2      $ 678815482          $ 2048359754  \n",
       "3      $ 211406762           $ 388774684  \n",
       "4      $ 190241310           $ 375540831  "
      ]
     },
     "metadata": {},
     "output_type": "display_data"
    },
    {
     "data": {
      "text/html": [
       "<div>\n",
       "<style scoped>\n",
       "    .dataframe tbody tr th:only-of-type {\n",
       "        vertical-align: middle;\n",
       "    }\n",
       "\n",
       "    .dataframe tbody tr th {\n",
       "        vertical-align: top;\n",
       "    }\n",
       "\n",
       "    .dataframe thead tr th {\n",
       "        text-align: left;\n",
       "    }\n",
       "\n",
       "    .dataframe thead tr:last-of-type th {\n",
       "        text-align: right;\n",
       "    }\n",
       "</style>\n",
       "<table border=\"1\" class=\"dataframe\">\n",
       "  <thead>\n",
       "    <tr>\n",
       "      <th></th>\n",
       "      <th colspan=\"2\" halign=\"left\">Runtime</th>\n",
       "      <th colspan=\"2\" halign=\"left\">Streaming</th>\n",
       "      <th colspan=\"2\" halign=\"left\">avg_vote</th>\n",
       "    </tr>\n",
       "    <tr>\n",
       "      <th></th>\n",
       "      <th>nanmean</th>\n",
       "      <th>std</th>\n",
       "      <th>nanmean</th>\n",
       "      <th>std</th>\n",
       "      <th>nanmean</th>\n",
       "      <th>std</th>\n",
       "    </tr>\n",
       "    <tr>\n",
       "      <th>Age</th>\n",
       "      <th></th>\n",
       "      <th></th>\n",
       "      <th></th>\n",
       "      <th></th>\n",
       "      <th></th>\n",
       "      <th></th>\n",
       "    </tr>\n",
       "  </thead>\n",
       "  <tbody>\n",
       "    <tr>\n",
       "      <th>13+</th>\n",
       "      <td>107.580184</td>\n",
       "      <td>24.848713</td>\n",
       "      <td>1.136778</td>\n",
       "      <td>0.363852</td>\n",
       "      <td>5.958764</td>\n",
       "      <td>1.203524</td>\n",
       "    </tr>\n",
       "    <tr>\n",
       "      <th>16+</th>\n",
       "      <td>97.549020</td>\n",
       "      <td>18.016418</td>\n",
       "      <td>1.090909</td>\n",
       "      <td>0.288418</td>\n",
       "      <td>5.203896</td>\n",
       "      <td>1.271605</td>\n",
       "    </tr>\n",
       "    <tr>\n",
       "      <th>18+</th>\n",
       "      <td>99.182398</td>\n",
       "      <td>18.656451</td>\n",
       "      <td>1.080360</td>\n",
       "      <td>0.283898</td>\n",
       "      <td>5.535345</td>\n",
       "      <td>1.243879</td>\n",
       "    </tr>\n",
       "    <tr>\n",
       "      <th>7+</th>\n",
       "      <td>104.623377</td>\n",
       "      <td>23.761924</td>\n",
       "      <td>1.073852</td>\n",
       "      <td>0.261661</td>\n",
       "      <td>5.894810</td>\n",
       "      <td>1.197881</td>\n",
       "    </tr>\n",
       "    <tr>\n",
       "      <th>all</th>\n",
       "      <td>103.783908</td>\n",
       "      <td>62.613762</td>\n",
       "      <td>1.054422</td>\n",
       "      <td>0.227106</td>\n",
       "      <td>6.093424</td>\n",
       "      <td>1.205509</td>\n",
       "    </tr>\n",
       "  </tbody>\n",
       "</table>\n",
       "</div>"
      ],
      "text/plain": [
       "        Runtime            Streaming            avg_vote          \n",
       "        nanmean        std   nanmean       std   nanmean       std\n",
       "Age                                                               \n",
       "13+  107.580184  24.848713  1.136778  0.363852  5.958764  1.203524\n",
       "16+   97.549020  18.016418  1.090909  0.288418  5.203896  1.271605\n",
       "18+   99.182398  18.656451  1.080360  0.283898  5.535345  1.243879\n",
       "7+   104.623377  23.761924  1.073852  0.261661  5.894810  1.197881\n",
       "all  103.783908  62.613762  1.054422  0.227106  6.093424  1.205509"
      ]
     },
     "execution_count": 5,
     "metadata": {},
     "output_type": "execute_result"
    }
   ],
   "source": [
    "display(joined.head(5))\n",
    "len(joined) #7345 when using title, 10149 when using original title, started with 16744\n",
    "joined['Age'].unique()\n",
    "age_rating = pd.CategoricalDtype(['all','7+','13+','16+','18+','nan'])\n",
    "joined.groupby('Age').agg([np.nanmean,np.std])"
   ]
  },
  {
   "cell_type": "code",
   "execution_count": 6,
   "metadata": {},
   "outputs": [
    {
     "data": {
      "text/plain": [
       "<matplotlib.axes._subplots.AxesSubplot at 0x7fc4b906c1d0>"
      ]
     },
     "execution_count": 6,
     "metadata": {},
     "output_type": "execute_result"
    },
    {
     "data": {
      "image/png": "[encoded data removed]",
      "text/plain": [
       "<Figure size 432x288 with 1 Axes>"
      ]
     },
     "metadata": {
      "needs_background": "light"
     },
     "output_type": "display_data"
    },
    {
     "data": {
      "image/png": "[encoded data removed]",
      "text/plain": [
       "<Figure size 432x288 with 1 Axes>"
      ]
     },
     "metadata": {
      "needs_background": "light"
     },
     "output_type": "display_data"
    }
   ],
   "source": [
    "joined.pivot(columns = 'Age')['avg_vote'].plot(kind = 'hist', stacked=True)\n",
    "joined.dropna(subset = ['Age']).pivot(columns = 'Age')['avg_vote'].plot(kind = 'hist', stacked=True)"
   ]
  },
  {
   "cell_type": "code",
   "execution_count": 7,
   "metadata": {},
   "outputs": [],
   "source": [
    "genres = []\n",
    "vals=[]\n",
    "errors = []\n",
    "\n",
    "for x in joined['Genres'].unique():\n",
    "    gs = str(x).split(',')\n",
    "    for gen in gs:\n",
    "        if gen in genres:\n",
    "            continue\n",
    "        else:\n",
    "            genres.append(gen)\n",
    "\n",
    "for g in genres:\n",
    "    movies = joined[joined['Genres'].map(lambda x: g in str(x))]\n",
    "    vals.append(np.nanmean(movies['avg_vote']))\n",
    "    errors.append(np.std(movies['avg_vote']))"
   ]
  },
  {
   "cell_type": "code",
   "execution_count": 32,
   "metadata": {},
   "outputs": [
    {
     "data": {
      "text/plain": [
       "5.6259828554537386"
      ]
     },
     "execution_count": 32,
     "metadata": {},
     "output_type": "execute_result"
    },
    {
     "data": {
      "image/png": "[encoded data removed]",
      "text/plain": [
       "<Figure size 720x360 with 1 Axes>"
      ]
     },
     "metadata": {
      "needs_background": "light"
     },
     "output_type": "display_data"
    }
   ],
   "source": [
    "fig0,ax0 = plt.subplots(figsize=[10,5])\n",
    "plt.xticks(rotation = 90)\n",
    "ax0.plot(genres,np.full(len(genres),5.45), c = 'orchid')\n",
    "ax0.plot(genres,np.full(len(genres),np.nanmean(joined['avg_vote'])), c = 'lightsalmon')\n",
    "ax0.errorbar(genres, vals, errors,fmt = '.', c='olivedrab')\n",
    "ax0.legend(['Population Mean','5.45','Values'])\n",
    "joined[joined['Genres'].map(lambda x: 'Game-Show' in str(x))]\n",
    "np.nanmean(joined['avg_vote'])"
   ]
  },
  {
   "cell_type": "code",
   "execution_count": 41,
   "metadata": {},
   "outputs": [
    {
     "data": {
      "text/plain": [
       "Text(0.5, 0, 'Runtime')"
      ]
     },
     "execution_count": 41,
     "metadata": {},
     "output_type": "execute_result"
    },
    {
     "data": {
      "image/png": "[encoded data removed]",
      "text/plain": [
       "<Figure size 432x288 with 1 Axes>"
      ]
     },
     "metadata": {
      "needs_background": "light"
     },
     "output_type": "display_data"
    }
   ],
   "source": [
    "fig,ax = plt.subplots()\n",
    "small = joined#.sample(500)\n",
    "ax.scatter(small['date_published'],small['Runtime'], s=1)\n",
    "ax.set_ylim(0,200)\n",
    "ax.set_xlim('2000','2020')\n",
    "# ax.set_xscale('symlog')\n",
    "ax.set_ylabel('date_published')\n",
    "ax.set_xlabel('Runtime')"
   ]
  },
  {
   "cell_type": "code",
   "execution_count": 42,
   "metadata": {},
   "outputs": [],
   "source": [
    "## gross income and public perception"
   ]
  },
  {
   "cell_type": "code",
   "execution_count": 34,
   "metadata": {},
   "outputs": [
    {
     "name": "stderr",
     "output_type": "stream",
     "text": [
      "/opt/conda/lib/python3.7/site-packages/ipykernel_launcher.py:3: SettingWithCopyWarning: \n",
      "A value is trying to be set on a copy of a slice from a DataFrame.\n",
      "Try using .loc[row_indexer,col_indexer] = value instead\n",
      "\n",
      "See the caveats in the documentation: http://pandas.pydata.org/pandas-docs/stable/user_guide/indexing.html#returning-a-view-versus-a-copy\n",
      "  This is separate from the ipykernel package so we can avoid doing imports until\n",
      "/opt/conda/lib/python3.7/site-packages/ipykernel_launcher.py:4: SettingWithCopyWarning: \n",
      "A value is trying to be set on a copy of a slice from a DataFrame.\n",
      "Try using .loc[row_indexer,col_indexer] = value instead\n",
      "\n",
      "See the caveats in the documentation: http://pandas.pydata.org/pandas-docs/stable/user_guide/indexing.html#returning-a-view-versus-a-copy\n",
      "  after removing the cwd from sys.path.\n"
     ]
    },
    {
     "data": {
      "text/html": [
       "<div>\n",
       "<style scoped>\n",
       "    .dataframe tbody tr th:only-of-type {\n",
       "        vertical-align: middle;\n",
       "    }\n",
       "\n",
       "    .dataframe tbody tr th {\n",
       "        vertical-align: top;\n",
       "    }\n",
       "\n",
       "    .dataframe thead th {\n",
       "        text-align: right;\n",
       "    }\n",
       "</style>\n",
       "<table border=\"1\" class=\"dataframe\">\n",
       "  <thead>\n",
       "    <tr style=\"text-align: right;\">\n",
       "      <th></th>\n",
       "      <th>Title</th>\n",
       "      <th>Genres</th>\n",
       "      <th>Age</th>\n",
       "      <th>Runtime</th>\n",
       "      <th>Country</th>\n",
       "      <th>Streaming</th>\n",
       "      <th>title</th>\n",
       "      <th>original_title</th>\n",
       "      <th>date_published</th>\n",
       "      <th>avg_vote</th>\n",
       "      <th>budget</th>\n",
       "      <th>usa_gross_income</th>\n",
       "      <th>worlwide_gross_income</th>\n",
       "    </tr>\n",
       "  </thead>\n",
       "  <tbody>\n",
       "    <tr>\n",
       "      <th>0</th>\n",
       "      <td>Inception</td>\n",
       "      <td>Action,Adventure,Sci-Fi,Thriller</td>\n",
       "      <td>13+</td>\n",
       "      <td>148.0</td>\n",
       "      <td>United States,United Kingdom</td>\n",
       "      <td>1</td>\n",
       "      <td>Inception</td>\n",
       "      <td>Inception</td>\n",
       "      <td>2010-09-24</td>\n",
       "      <td>8.8</td>\n",
       "      <td>$ 160000000</td>\n",
       "      <td>292576195.0</td>\n",
       "      <td>8.697850e+08</td>\n",
       "    </tr>\n",
       "    <tr>\n",
       "      <th>1</th>\n",
       "      <td>The Matrix</td>\n",
       "      <td>Action,Sci-Fi</td>\n",
       "      <td>18+</td>\n",
       "      <td>136.0</td>\n",
       "      <td>United States</td>\n",
       "      <td>1</td>\n",
       "      <td>Matrix</td>\n",
       "      <td>The Matrix</td>\n",
       "      <td>1999-05-07</td>\n",
       "      <td>8.7</td>\n",
       "      <td>$ 63000000</td>\n",
       "      <td>171479930.0</td>\n",
       "      <td>4.657186e+08</td>\n",
       "    </tr>\n",
       "    <tr>\n",
       "      <th>2</th>\n",
       "      <td>Avengers: Infinity War</td>\n",
       "      <td>Action,Adventure,Sci-Fi</td>\n",
       "      <td>13+</td>\n",
       "      <td>149.0</td>\n",
       "      <td>United States</td>\n",
       "      <td>1</td>\n",
       "      <td>Avengers: Infinity War</td>\n",
       "      <td>Avengers: Infinity War</td>\n",
       "      <td>2018-04-25</td>\n",
       "      <td>8.4</td>\n",
       "      <td>$ 321000000</td>\n",
       "      <td>678815482.0</td>\n",
       "      <td>2.048360e+09</td>\n",
       "    </tr>\n",
       "    <tr>\n",
       "      <th>3</th>\n",
       "      <td>Back to the Future</td>\n",
       "      <td>Adventure,Comedy,Sci-Fi</td>\n",
       "      <td>7+</td>\n",
       "      <td>116.0</td>\n",
       "      <td>United States</td>\n",
       "      <td>1</td>\n",
       "      <td>Ritorno al futuro</td>\n",
       "      <td>Back to the Future</td>\n",
       "      <td>1985-10-18</td>\n",
       "      <td>8.5</td>\n",
       "      <td>$ 19000000</td>\n",
       "      <td>211406762.0</td>\n",
       "      <td>3.887747e+08</td>\n",
       "    </tr>\n",
       "    <tr>\n",
       "      <th>4</th>\n",
       "      <td>Spider-Man: Into the Spider-Verse</td>\n",
       "      <td>Animation,Action,Adventure,Family,Sci-Fi</td>\n",
       "      <td>7+</td>\n",
       "      <td>117.0</td>\n",
       "      <td>United States</td>\n",
       "      <td>1</td>\n",
       "      <td>Spider-Man: Un nuovo universo</td>\n",
       "      <td>Spider-Man: Into the Spider-Verse</td>\n",
       "      <td>2018-12-25</td>\n",
       "      <td>8.4</td>\n",
       "      <td>$ 90000000</td>\n",
       "      <td>190241310.0</td>\n",
       "      <td>3.755408e+08</td>\n",
       "    </tr>\n",
       "  </tbody>\n",
       "</table>\n",
       "</div>"
      ],
      "text/plain": [
       "                               Title  \\\n",
       "0                          Inception   \n",
       "1                         The Matrix   \n",
       "2             Avengers: Infinity War   \n",
       "3                 Back to the Future   \n",
       "4  Spider-Man: Into the Spider-Verse   \n",
       "\n",
       "                                     Genres  Age  Runtime  \\\n",
       "0          Action,Adventure,Sci-Fi,Thriller  13+    148.0   \n",
       "1                             Action,Sci-Fi  18+    136.0   \n",
       "2                   Action,Adventure,Sci-Fi  13+    149.0   \n",
       "3                   Adventure,Comedy,Sci-Fi   7+    116.0   \n",
       "4  Animation,Action,Adventure,Family,Sci-Fi   7+    117.0   \n",
       "\n",
       "                        Country  Streaming                          title  \\\n",
       "0  United States,United Kingdom          1                      Inception   \n",
       "1                 United States          1                         Matrix   \n",
       "2                 United States          1         Avengers: Infinity War   \n",
       "3                 United States          1              Ritorno al futuro   \n",
       "4                 United States          1  Spider-Man: Un nuovo universo   \n",
       "\n",
       "                      original_title date_published  avg_vote       budget  \\\n",
       "0                          Inception     2010-09-24       8.8  $ 160000000   \n",
       "1                         The Matrix     1999-05-07       8.7   $ 63000000   \n",
       "2             Avengers: Infinity War     2018-04-25       8.4  $ 321000000   \n",
       "3                 Back to the Future     1985-10-18       8.5   $ 19000000   \n",
       "4  Spider-Man: Into the Spider-Verse     2018-12-25       8.4   $ 90000000   \n",
       "\n",
       "   usa_gross_income  worlwide_gross_income  \n",
       "0       292576195.0           8.697850e+08  \n",
       "1       171479930.0           4.657186e+08  \n",
       "2       678815482.0           2.048360e+09  \n",
       "3       211406762.0           3.887747e+08  \n",
       "4       190241310.0           3.755408e+08  "
      ]
     },
     "execution_count": 34,
     "metadata": {},
     "output_type": "execute_result"
    }
   ],
   "source": [
    "doll = joined[joined['budget'].map(lambda x: '$' in str(x))]\n",
    "\n",
    "doll['worlwide_gross_income'] = doll['worlwide_gross_income'].map(lambda x : float(str(x).replace('$','')))\n",
    "doll['usa_gross_income'] = doll['usa_gross_income'].map(lambda x : float(str(x).replace('$','')))\n",
    "\n",
    "doll.head()"
   ]
  },
  {
   "cell_type": "code",
   "execution_count": 42,
   "metadata": {},
   "outputs": [
    {
     "data": {
      "text/plain": [
       "Text(0.5, 0, 'US income ($)')"
      ]
     },
     "execution_count": 42,
     "metadata": {},
     "output_type": "execute_result"
    },
    {
     "data": {
      "image/png": "[encoded data removed]",
      "text/plain": [
       "<Figure size 432x288 with 1 Axes>"
      ]
     },
     "metadata": {
      "needs_background": "light"
     },
     "output_type": "display_data"
    }
   ],
   "source": [
    "fig1,ax1 = plt.subplots()\n",
    "ax1.scatter(doll['usa_gross_income'],doll['worlwide_gross_income'], s=1)\n",
    "# ax.set_xlim('2000','2020')\n",
    "# ax1.set_yscale('symlog')\n",
    "# ax1.set_xscale('symlog')\n",
    "ax1.set_ylabel('world income ($)')\n",
    "ax1.set_xlabel('US income ($)')"
   ]
  },
  {
   "cell_type": "code",
   "execution_count": 45,
   "metadata": {},
   "outputs": [
    {
     "name": "stderr",
     "output_type": "stream",
     "text": [
      "/opt/conda/lib/python3.7/site-packages/ipykernel_launcher.py:1: SettingWithCopyWarning: \n",
      "A value is trying to be set on a copy of a slice from a DataFrame.\n",
      "Try using .loc[row_indexer,col_indexer] = value instead\n",
      "\n",
      "See the caveats in the documentation: http://pandas.pydata.org/pandas-docs/stable/user_guide/indexing.html#returning-a-view-versus-a-copy\n",
      "  \"\"\"Entry point for launching an IPython kernel.\n"
     ]
    },
    {
     "data": {
      "text/html": [
       "<div>\n",
       "<style scoped>\n",
       "    .dataframe tbody tr th:only-of-type {\n",
       "        vertical-align: middle;\n",
       "    }\n",
       "\n",
       "    .dataframe tbody tr th {\n",
       "        vertical-align: top;\n",
       "    }\n",
       "\n",
       "    .dataframe thead th {\n",
       "        text-align: right;\n",
       "    }\n",
       "</style>\n",
       "<table border=\"1\" class=\"dataframe\">\n",
       "  <thead>\n",
       "    <tr style=\"text-align: right;\">\n",
       "      <th></th>\n",
       "      <th>Title</th>\n",
       "      <th>Genres</th>\n",
       "      <th>Age</th>\n",
       "      <th>Runtime</th>\n",
       "      <th>Country</th>\n",
       "      <th>Streaming</th>\n",
       "      <th>title</th>\n",
       "      <th>original_title</th>\n",
       "      <th>date_published</th>\n",
       "      <th>avg_vote</th>\n",
       "      <th>budget</th>\n",
       "      <th>usa_gross_income</th>\n",
       "      <th>worlwide_gross_income</th>\n",
       "    </tr>\n",
       "  </thead>\n",
       "  <tbody>\n",
       "    <tr>\n",
       "      <th>69</th>\n",
       "      <td>The Evil Dead</td>\n",
       "      <td>Horror</td>\n",
       "      <td>18+</td>\n",
       "      <td>85.0</td>\n",
       "      <td>United States</td>\n",
       "      <td>1</td>\n",
       "      <td>La casa</td>\n",
       "      <td>The Evil Dead</td>\n",
       "      <td>1984-08-17</td>\n",
       "      <td>7.5</td>\n",
       "      <td>350000.0</td>\n",
       "      <td>2400000.0</td>\n",
       "      <td>2893091.0</td>\n",
       "    </tr>\n",
       "    <tr>\n",
       "      <th>115</th>\n",
       "      <td>Chasing Amy</td>\n",
       "      <td>Comedy,Drama,Romance</td>\n",
       "      <td>18+</td>\n",
       "      <td>113.0</td>\n",
       "      <td>United States</td>\n",
       "      <td>1</td>\n",
       "      <td>In cerca di Amy</td>\n",
       "      <td>Chasing Amy</td>\n",
       "      <td>1997-04-18</td>\n",
       "      <td>7.2</td>\n",
       "      <td>250000.0</td>\n",
       "      <td>12021272.0</td>\n",
       "      <td>12021272.0</td>\n",
       "    </tr>\n",
       "    <tr>\n",
       "      <th>117</th>\n",
       "      <td>The Wicker Man</td>\n",
       "      <td>Horror,Mystery,Thriller</td>\n",
       "      <td>18+</td>\n",
       "      <td>88.0</td>\n",
       "      <td>United Kingdom</td>\n",
       "      <td>1</td>\n",
       "      <td>The Wicker Man</td>\n",
       "      <td>The Wicker Man</td>\n",
       "      <td>1973-12-06</td>\n",
       "      <td>7.5</td>\n",
       "      <td>810000.0</td>\n",
       "      <td>60891.0</td>\n",
       "      <td>98201.0</td>\n",
       "    </tr>\n",
       "    <tr>\n",
       "      <th>133</th>\n",
       "      <td>Blue Ruin</td>\n",
       "      <td>Crime,Drama,Thriller</td>\n",
       "      <td>18+</td>\n",
       "      <td>90.0</td>\n",
       "      <td>United States,France</td>\n",
       "      <td>1</td>\n",
       "      <td>Blue Ruin</td>\n",
       "      <td>Blue Ruin</td>\n",
       "      <td>2014-07-09</td>\n",
       "      <td>7.1</td>\n",
       "      <td>420000.0</td>\n",
       "      <td>258384.0</td>\n",
       "      <td>993313.0</td>\n",
       "    </tr>\n",
       "    <tr>\n",
       "      <th>164</th>\n",
       "      <td>Freaks</td>\n",
       "      <td>Drama,Mystery,Sci-Fi,Thriller</td>\n",
       "      <td>18+</td>\n",
       "      <td>105.0</td>\n",
       "      <td>Canada,United States</td>\n",
       "      <td>1</td>\n",
       "      <td>Freaks</td>\n",
       "      <td>Freaks</td>\n",
       "      <td>1932-02-20</td>\n",
       "      <td>7.9</td>\n",
       "      <td>310607.0</td>\n",
       "      <td>NaN</td>\n",
       "      <td>4072.0</td>\n",
       "    </tr>\n",
       "  </tbody>\n",
       "</table>\n",
       "</div>"
      ],
      "text/plain": [
       "              Title                         Genres  Age  Runtime  \\\n",
       "69    The Evil Dead                         Horror  18+     85.0   \n",
       "115     Chasing Amy           Comedy,Drama,Romance  18+    113.0   \n",
       "117  The Wicker Man        Horror,Mystery,Thriller  18+     88.0   \n",
       "133       Blue Ruin           Crime,Drama,Thriller  18+     90.0   \n",
       "164          Freaks  Drama,Mystery,Sci-Fi,Thriller  18+    105.0   \n",
       "\n",
       "                  Country  Streaming            title  original_title  \\\n",
       "69          United States          1          La casa   The Evil Dead   \n",
       "115         United States          1  In cerca di Amy     Chasing Amy   \n",
       "117        United Kingdom          1   The Wicker Man  The Wicker Man   \n",
       "133  United States,France          1        Blue Ruin       Blue Ruin   \n",
       "164  Canada,United States          1           Freaks          Freaks   \n",
       "\n",
       "    date_published  avg_vote    budget  usa_gross_income  \\\n",
       "69      1984-08-17       7.5  350000.0         2400000.0   \n",
       "115     1997-04-18       7.2  250000.0        12021272.0   \n",
       "117     1973-12-06       7.5  810000.0           60891.0   \n",
       "133     2014-07-09       7.1  420000.0          258384.0   \n",
       "164     1932-02-20       7.9  310607.0               NaN   \n",
       "\n",
       "     worlwide_gross_income  \n",
       "69               2893091.0  \n",
       "115             12021272.0  \n",
       "117                98201.0  \n",
       "133               993313.0  \n",
       "164                 4072.0  "
      ]
     },
     "execution_count": 45,
     "metadata": {},
     "output_type": "execute_result"
    }
   ],
   "source": [
    "doll['budget'] = doll['budget'].map(lambda x : float(str(x).replace('$','')))\n",
    "\n",
    "doll[doll['budget']<1000000].head()"
   ]
  },
  {
   "cell_type": "code",
   "execution_count": 37,
   "metadata": {},
   "outputs": [
    {
     "name": "stderr",
     "output_type": "stream",
     "text": [
      "/opt/conda/lib/python3.7/site-packages/ipykernel_launcher.py:2: SettingWithCopyWarning: \n",
      "A value is trying to be set on a copy of a slice from a DataFrame.\n",
      "Try using .loc[row_indexer,col_indexer] = value instead\n",
      "\n",
      "See the caveats in the documentation: http://pandas.pydata.org/pandas-docs/stable/user_guide/indexing.html#returning-a-view-versus-a-copy\n",
      "  \n"
     ]
    },
    {
     "data": {
      "text/plain": [
       "Text(0.5, 0, 'vote')"
      ]
     },
     "execution_count": 37,
     "metadata": {},
     "output_type": "execute_result"
    },
    {
     "data": {
      "image/png": "[encoded data removed]",
      "text/plain": [
       "<Figure size 432x288 with 1 Axes>"
      ]
     },
     "metadata": {
      "needs_background": "light"
     },
     "output_type": "display_data"
    }
   ],
   "source": [
    "fig1,ax1 = plt.subplots()\n",
    "doll['budget'] = doll['budget'].map(lambda x : float(str(x).replace('$','')))\n",
    "ax1.scatter(doll['avg_vote'],doll['budget'], s=1)\n",
    "# ax.set_xlim('2000','2020')\n",
    "# ax1.set_yscale('symlog')\n",
    "ax1.set_ylabel('budget $')\n",
    "ax1.set_xlabel('vote')"
   ]
  },
  {
   "cell_type": "code",
   "execution_count": 47,
   "metadata": {},
   "outputs": [],
   "source": [
    "platforms = ['Netflix','Hulu','Prime Video','Disney+']\n",
    "\n",
    "platvals=[]\n",
    "platerrors = []\n",
    "\n",
    "for plat in platforms:\n",
    "    movies = streaming[streaming[plat]==1]\n",
    "    platvals.append(np.nanmean(movies['IMDb']))\n",
    "    platerrors.append(np.std(movies['IMDb']))"
   ]
  },
  {
   "cell_type": "code",
   "execution_count": 48,
   "metadata": {},
   "outputs": [
    {
     "data": {
      "text/plain": [
       "<ErrorbarContainer object of 3 artists>"
      ]
     },
     "execution_count": 48,
     "metadata": {},
     "output_type": "execute_result"
    },
    {
     "data": {
      "image/png": "[encoded data removed]",
      "text/plain": [
       "<Figure size 432x288 with 1 Axes>"
      ]
     },
     "metadata": {
      "needs_background": "light"
     },
     "output_type": "display_data"
    }
   ],
   "source": [
    "plt.xticks(rotation = 90)\n",
    "plt.errorbar(platforms, platvals, platerrors,fmt = '.')"
   ]
  },
  {
   "cell_type": "code",
   "execution_count": 52,
   "metadata": {},
   "outputs": [
    {
     "data": {
      "text/plain": [
       "Text(0.5, 0, 'vote')"
      ]
     },
     "execution_count": 52,
     "metadata": {},
     "output_type": "execute_result"
    },
    {
     "data": {
      "image/png": "[encoded data removed]",
      "text/plain": [
       "<Figure size 432x288 with 1 Axes>"
      ]
     },
     "metadata": {
      "needs_background": "light"
     },
     "output_type": "display_data"
    }
   ],
   "source": [
    "fig2,ax2 = plt.subplots()\n",
    "ax2.scatter(joined['avg_vote'],joined['Streaming'], s=1)\n",
    "ax2.set_ylabel('# of streaming platforms')\n",
    "ax2.set_xlabel('vote')"
   ]
  },
  {
   "cell_type": "code",
   "execution_count": 54,
   "metadata": {},
   "outputs": [
    {
     "data": {
      "text/html": [
       "<div>\n",
       "<style scoped>\n",
       "    .dataframe tbody tr th:only-of-type {\n",
       "        vertical-align: middle;\n",
       "    }\n",
       "\n",
       "    .dataframe tbody tr th {\n",
       "        vertical-align: top;\n",
       "    }\n",
       "\n",
       "    .dataframe thead th {\n",
       "        text-align: right;\n",
       "    }\n",
       "</style>\n",
       "<table border=\"1\" class=\"dataframe\">\n",
       "  <thead>\n",
       "    <tr style=\"text-align: right;\">\n",
       "      <th></th>\n",
       "      <th>nanmean</th>\n",
       "      <th>std</th>\n",
       "    </tr>\n",
       "    <tr>\n",
       "      <th>Streaming</th>\n",
       "      <th></th>\n",
       "      <th></th>\n",
       "    </tr>\n",
       "  </thead>\n",
       "  <tbody>\n",
       "    <tr>\n",
       "      <th>1</th>\n",
       "      <td>5.609963</td>\n",
       "      <td>1.284162</td>\n",
       "    </tr>\n",
       "    <tr>\n",
       "      <th>2</th>\n",
       "      <td>5.825072</td>\n",
       "      <td>1.212479</td>\n",
       "    </tr>\n",
       "    <tr>\n",
       "      <th>3</th>\n",
       "      <td>6.275000</td>\n",
       "      <td>1.328186</td>\n",
       "    </tr>\n",
       "  </tbody>\n",
       "</table>\n",
       "</div>"
      ],
      "text/plain": [
       "            nanmean       std\n",
       "Streaming                    \n",
       "1          5.609963  1.284162\n",
       "2          5.825072  1.212479\n",
       "3          6.275000  1.328186"
      ]
     },
     "execution_count": 54,
     "metadata": {},
     "output_type": "execute_result"
    }
   ],
   "source": [
    "joined.groupby('Streaming').agg([np.nanmean, np.std])['avg_vote']"
   ]
  },
  {
   "cell_type": "code",
   "execution_count": null,
   "metadata": {},
   "outputs": [],
   "source": []
  }
 ],
 "metadata": {
  "kernelspec": {
   "display_name": "Python 3",
   "language": "python",
   "name": "python3"
  },
  "language_info": {
   "codemirror_mode": {
    "name": "ipython",
    "version": 3
   },
   "file_extension": ".py",
   "mimetype": "text/x-python",
   "name": "python",
   "nbconvert_exporter": "python",
   "pygments_lexer": "ipython3",
   "version": "3.7.3"
  }
 },
 "nbformat": 4,
 "nbformat_minor": 4
}
