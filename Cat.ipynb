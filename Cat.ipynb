{
 "cells": [
  {
   "cell_type": "markdown",
   "metadata": {},
   "source": [
    "Is there a relationship between gross income for a movie and rating or public perception?"
   ]
  },
  {
   "cell_type": "markdown",
   "metadata": {},
   "source": [
    "If a movie is on more streaming platforms, will it have higher ratings?"
   ]
  },
  {
   "cell_type": "markdown",
   "metadata": {},
   "source": [
    "scipy stats correlation"
   ]
  },
  {
   "cell_type": "markdown",
   "metadata": {},
   "source": [
    "# Do better rated movies receive more awards/nominations?"
   ]
  },
  {
   "cell_type": "code",
   "execution_count": 1,
   "metadata": {},
   "outputs": [],
   "source": [
    "import pandas as pd\n",
    "import numpy as np"
   ]
  },
  {
   "cell_type": "code",
   "execution_count": 2,
   "metadata": {},
   "outputs": [
    {
     "data": {
      "text/html": [
       "<div>\n",
       "<style scoped>\n",
       "    .dataframe tbody tr th:only-of-type {\n",
       "        vertical-align: middle;\n",
       "    }\n",
       "\n",
       "    .dataframe tbody tr th {\n",
       "        vertical-align: top;\n",
       "    }\n",
       "\n",
       "    .dataframe thead th {\n",
       "        text-align: right;\n",
       "    }\n",
       "</style>\n",
       "<table border=\"1\" class=\"dataframe\">\n",
       "  <thead>\n",
       "    <tr style=\"text-align: right;\">\n",
       "      <th></th>\n",
       "      <th>award</th>\n",
       "      <th>winner</th>\n",
       "      <th>title</th>\n",
       "    </tr>\n",
       "  </thead>\n",
       "  <tbody>\n",
       "    <tr>\n",
       "      <th>0</th>\n",
       "      <td>Actor</td>\n",
       "      <td>NaN</td>\n",
       "      <td>Richard Barthelmess</td>\n",
       "    </tr>\n",
       "    <tr>\n",
       "      <th>1</th>\n",
       "      <td>Actor</td>\n",
       "      <td>1.0</td>\n",
       "      <td>Emil Jannings</td>\n",
       "    </tr>\n",
       "    <tr>\n",
       "      <th>2</th>\n",
       "      <td>Actress</td>\n",
       "      <td>NaN</td>\n",
       "      <td>Louise Dresser</td>\n",
       "    </tr>\n",
       "    <tr>\n",
       "      <th>3</th>\n",
       "      <td>Actress</td>\n",
       "      <td>1.0</td>\n",
       "      <td>Janet Gaynor</td>\n",
       "    </tr>\n",
       "    <tr>\n",
       "      <th>4</th>\n",
       "      <td>Actress</td>\n",
       "      <td>NaN</td>\n",
       "      <td>Gloria Swanson</td>\n",
       "    </tr>\n",
       "  </tbody>\n",
       "</table>\n",
       "</div>"
      ],
      "text/plain": [
       "     award  winner                title\n",
       "0    Actor     NaN  Richard Barthelmess\n",
       "1    Actor     1.0        Emil Jannings\n",
       "2  Actress     NaN       Louise Dresser\n",
       "3  Actress     1.0         Janet Gaynor\n",
       "4  Actress     NaN       Gloria Swanson"
      ]
     },
     "metadata": {},
     "output_type": "display_data"
    }
   ],
   "source": [
    "awards = pd.read_csv('oscars.csv')\n",
    "awards = awards[['Award', 'Winner', 'Name']]\n",
    "awards = awards.rename(columns={\"Name\": \"title\", \"Award\":\"award\", \"Winner\":\"winner\"})\n",
    "display(awards.head())"
   ]
  },
  {
   "cell_type": "code",
   "execution_count": 3,
   "metadata": {},
   "outputs": [
    {
     "name": "stderr",
     "output_type": "stream",
     "text": [
      "/opt/conda/lib/python3.7/site-packages/IPython/core/interactiveshell.py:3058: DtypeWarning: Columns (3) have mixed types. Specify dtype option on import or set low_memory=False.\n",
      "  interactivity=interactivity, compiler=compiler, result=result)\n"
     ]
    },
    {
     "data": {
      "text/html": [
       "<div>\n",
       "<style scoped>\n",
       "    .dataframe tbody tr th:only-of-type {\n",
       "        vertical-align: middle;\n",
       "    }\n",
       "\n",
       "    .dataframe tbody tr th {\n",
       "        vertical-align: top;\n",
       "    }\n",
       "\n",
       "    .dataframe thead th {\n",
       "        text-align: right;\n",
       "    }\n",
       "</style>\n",
       "<table border=\"1\" class=\"dataframe\">\n",
       "  <thead>\n",
       "    <tr style=\"text-align: right;\">\n",
       "      <th></th>\n",
       "      <th>title</th>\n",
       "      <th>avg_vote</th>\n",
       "    </tr>\n",
       "  </thead>\n",
       "  <tbody>\n",
       "    <tr>\n",
       "      <th>0</th>\n",
       "      <td>Miss Jerry</td>\n",
       "      <td>5.9</td>\n",
       "    </tr>\n",
       "    <tr>\n",
       "      <th>1</th>\n",
       "      <td>The Story of the Kelly Gang</td>\n",
       "      <td>6.1</td>\n",
       "    </tr>\n",
       "    <tr>\n",
       "      <th>2</th>\n",
       "      <td>Den sorte drøm</td>\n",
       "      <td>5.8</td>\n",
       "    </tr>\n",
       "    <tr>\n",
       "      <th>3</th>\n",
       "      <td>Cleopatra</td>\n",
       "      <td>5.2</td>\n",
       "    </tr>\n",
       "    <tr>\n",
       "      <th>4</th>\n",
       "      <td>L'Inferno</td>\n",
       "      <td>7.0</td>\n",
       "    </tr>\n",
       "  </tbody>\n",
       "</table>\n",
       "</div>"
      ],
      "text/plain": [
       "                         title  avg_vote\n",
       "0                   Miss Jerry       5.9\n",
       "1  The Story of the Kelly Gang       6.1\n",
       "2               Den sorte drøm       5.8\n",
       "3                    Cleopatra       5.2\n",
       "4                    L'Inferno       7.0"
      ]
     },
     "metadata": {},
     "output_type": "display_data"
    }
   ],
   "source": [
    "movies = pd.read_csv('imdb.csv')\n",
    "movies = movies[['title', 'avg_vote']]\n",
    "display(movies.head())"
   ]
  },
  {
   "cell_type": "code",
   "execution_count": 21,
   "metadata": {},
   "outputs": [
    {
     "data": {
      "text/html": [
       "<div>\n",
       "<style scoped>\n",
       "    .dataframe tbody tr th:only-of-type {\n",
       "        vertical-align: middle;\n",
       "    }\n",
       "\n",
       "    .dataframe tbody tr th {\n",
       "        vertical-align: top;\n",
       "    }\n",
       "\n",
       "    .dataframe thead th {\n",
       "        text-align: right;\n",
       "    }\n",
       "</style>\n",
       "<table border=\"1\" class=\"dataframe\">\n",
       "  <thead>\n",
       "    <tr style=\"text-align: right;\">\n",
       "      <th></th>\n",
       "      <th>title</th>\n",
       "      <th>avg_vote</th>\n",
       "      <th>award</th>\n",
       "      <th>winner</th>\n",
       "    </tr>\n",
       "  </thead>\n",
       "  <tbody>\n",
       "    <tr>\n",
       "      <th>0</th>\n",
       "      <td>Cinderella</td>\n",
       "      <td>6.0</td>\n",
       "      <td>Costume Design</td>\n",
       "      <td>1</td>\n",
       "    </tr>\n",
       "    <tr>\n",
       "      <th>1</th>\n",
       "      <td>Cinderella</td>\n",
       "      <td>5.6</td>\n",
       "      <td>Costume Design</td>\n",
       "      <td>1</td>\n",
       "    </tr>\n",
       "    <tr>\n",
       "      <th>2</th>\n",
       "      <td>Sis Hopkins</td>\n",
       "      <td>5.9</td>\n",
       "      <td>Art Direction (Black and White)</td>\n",
       "      <td>1</td>\n",
       "    </tr>\n",
       "    <tr>\n",
       "      <th>3</th>\n",
       "      <td>Bill and Coo</td>\n",
       "      <td>5.6</td>\n",
       "      <td>Special Award</td>\n",
       "      <td>2</td>\n",
       "    </tr>\n",
       "    <tr>\n",
       "      <th>4</th>\n",
       "      <td>Monsieur Vincent</td>\n",
       "      <td>7.0</td>\n",
       "      <td>Special Foreign Language Film Award</td>\n",
       "      <td>2</td>\n",
       "    </tr>\n",
       "  </tbody>\n",
       "</table>\n",
       "</div>"
      ],
      "text/plain": [
       "              title  avg_vote                                award  winner\n",
       "0        Cinderella       6.0                       Costume Design       1\n",
       "1        Cinderella       5.6                       Costume Design       1\n",
       "2       Sis Hopkins       5.9      Art Direction (Black and White)       1\n",
       "3      Bill and Coo       5.6                        Special Award       2\n",
       "4  Monsieur Vincent       7.0  Special Foreign Language Film Award       2"
      ]
     },
     "metadata": {},
     "output_type": "display_data"
    }
   ],
   "source": [
    "merged = movies.merge(awards, how='inner', on='title')\n",
    "def nan_fix(df):\n",
    "    if str(df) == 'nan':\n",
    "        return 1\n",
    "    if df == 1.0:\n",
    "        return 2\n",
    "    else:\n",
    "        return 0\n",
    "merged['winner'] = merged['winner'].apply(nan_fix)\n",
    "display(merged.head())\n",
    "\n",
    "# will it be a problem if we have movies with the same name? or is it find since it counts it as two different movies?\n",
    "\n",
    "# compare the movies that were nominated vs. not nominated"
   ]
  },
  {
   "cell_type": "code",
   "execution_count": 22,
   "metadata": {},
   "outputs": [
    {
     "data": {
      "text/plain": [
       "6.79811320754717"
      ]
     },
     "execution_count": 22,
     "metadata": {},
     "output_type": "execute_result"
    }
   ],
   "source": [
    "won = merged[merged['winner'] == 1]\n",
    "avg_rating_won = won['avg_vote'].agg(np.mean)\n",
    "avg_rating_won"
   ]
  },
  {
   "cell_type": "code",
   "execution_count": 6,
   "metadata": {},
   "outputs": [
    {
     "data": {
      "text/plain": [
       "nan"
      ]
     },
     "execution_count": 6,
     "metadata": {},
     "output_type": "execute_result"
    }
   ],
   "source": [
    "lost = merged[merged['winner'] == 0]\n",
    "avg_rating_lost = lost['avg_vote'].agg(np.mean)\n",
    "avg_rating_lost"
   ]
  },
  {
   "cell_type": "code",
   "execution_count": 7,
   "metadata": {},
   "outputs": [
    {
     "data": {
      "text/html": [
       "<div>\n",
       "<style scoped>\n",
       "    .dataframe tbody tr th:only-of-type {\n",
       "        vertical-align: middle;\n",
       "    }\n",
       "\n",
       "    .dataframe tbody tr th {\n",
       "        vertical-align: top;\n",
       "    }\n",
       "\n",
       "    .dataframe thead th {\n",
       "        text-align: right;\n",
       "    }\n",
       "</style>\n",
       "<table border=\"1\" class=\"dataframe\">\n",
       "  <thead>\n",
       "    <tr style=\"text-align: right;\">\n",
       "      <th></th>\n",
       "      <th>winner</th>\n",
       "      <th>avg_vote</th>\n",
       "    </tr>\n",
       "  </thead>\n",
       "  <tbody>\n",
       "    <tr>\n",
       "      <th>0</th>\n",
       "      <td>no</td>\n",
       "      <td>6.798113</td>\n",
       "    </tr>\n",
       "    <tr>\n",
       "      <th>1</th>\n",
       "      <td>yes</td>\n",
       "      <td>6.800000</td>\n",
       "    </tr>\n",
       "  </tbody>\n",
       "</table>\n",
       "</div>"
      ],
      "text/plain": [
       "  winner  avg_vote\n",
       "0     no  6.798113\n",
       "1    yes  6.800000"
      ]
     },
     "execution_count": 7,
     "metadata": {},
     "output_type": "execute_result"
    }
   ],
   "source": [
    "plotting = merged[['avg_vote', 'winner']]\n",
    "plotting = plotting.groupby('winner').agg(np.mean)\n",
    "plotting = plotting.reset_index()\n",
    "plotting"
   ]
  },
  {
   "cell_type": "code",
   "execution_count": 8,
   "metadata": {},
   "outputs": [],
   "source": [
    "import matplotlib.pyplot as plt"
   ]
  },
  {
   "cell_type": "code",
   "execution_count": 9,
   "metadata": {},
   "outputs": [],
   "source": [
    "# ax = plotting.plot.bar(x='winner', y='avg_vote', rot=0, ylim = (6.79,6.8), color = 'darkolivegreen')\n",
    "# ax"
   ]
  },
  {
   "cell_type": "code",
   "execution_count": 10,
   "metadata": {},
   "outputs": [
    {
     "data": {
      "image/png": "[encoded data removed]",
      "text/plain": [
       "<Figure size 432x288 with 1 Axes>"
      ]
     },
     "metadata": {
      "needs_background": "light"
     },
     "output_type": "display_data"
    }
   ],
   "source": [
    "fig = plt.figure()\n",
    "ax1 = fig.add_axes([0,0,1,1])\n",
    "x = plotting['winner']\n",
    "y = plotting['avg_vote']\n",
    "ax1.bar(x,y, color='darksalmon')\n",
    "ax1.set_xlabel('Winner', fontsize=12)\n",
    "ax1.set_ylabel('Average Rating', fontsize=12)\n",
    "ax1.set_ylim(6.79, 6.8)\n",
    "ax1.set_title('Do Movies that Win Awards Have Higher Ratings Than Other Nominated Movies?', fontsize=16)\n",
    "plt.show()"
   ]
  },
  {
   "cell_type": "code",
   "execution_count": 86,
   "metadata": {},
   "outputs": [
    {
     "data": {
      "text/html": [
       "<div>\n",
       "<style scoped>\n",
       "    .dataframe tbody tr th:only-of-type {\n",
       "        vertical-align: middle;\n",
       "    }\n",
       "\n",
       "    .dataframe tbody tr th {\n",
       "        vertical-align: top;\n",
       "    }\n",
       "\n",
       "    .dataframe thead th {\n",
       "        text-align: right;\n",
       "    }\n",
       "</style>\n",
       "<table border=\"1\" class=\"dataframe\">\n",
       "  <thead>\n",
       "    <tr style=\"text-align: right;\">\n",
       "      <th></th>\n",
       "      <th>title</th>\n",
       "      <th>avg_vote</th>\n",
       "      <th>metascore</th>\n",
       "    </tr>\n",
       "  </thead>\n",
       "  <tbody>\n",
       "    <tr>\n",
       "      <th>506</th>\n",
       "      <td>Metropolis</td>\n",
       "      <td>8.3</td>\n",
       "      <td>98.0</td>\n",
       "    </tr>\n",
       "    <tr>\n",
       "      <th>566</th>\n",
       "      <td>The Jazz Singer</td>\n",
       "      <td>6.5</td>\n",
       "      <td>66.0</td>\n",
       "    </tr>\n",
       "    <tr>\n",
       "      <th>628</th>\n",
       "      <td>The Circus</td>\n",
       "      <td>8.1</td>\n",
       "      <td>90.0</td>\n",
       "    </tr>\n",
       "    <tr>\n",
       "      <th>714</th>\n",
       "      <td>The Cocoanuts</td>\n",
       "      <td>7.0</td>\n",
       "      <td>69.0</td>\n",
       "    </tr>\n",
       "    <tr>\n",
       "      <th>786</th>\n",
       "      <td>Piccadilly</td>\n",
       "      <td>7.1</td>\n",
       "      <td>89.0</td>\n",
       "    </tr>\n",
       "  </tbody>\n",
       "</table>\n",
       "</div>"
      ],
      "text/plain": [
       "               title  avg_vote  metascore\n",
       "506       Metropolis       8.3       98.0\n",
       "566  The Jazz Singer       6.5       66.0\n",
       "628       The Circus       8.1       90.0\n",
       "714    The Cocoanuts       7.0       69.0\n",
       "786       Piccadilly       7.1       89.0"
      ]
     },
     "execution_count": 86,
     "metadata": {},
     "output_type": "execute_result"
    }
   ],
   "source": [
    "# imdb rating vs. rotten tomatoes rating\n",
    "# user vs critic\n",
    "\n",
    "m = pd.read_csv('imdb.csv')\n",
    "m['date_published'] = pd.to_datetime(m['date_published'], errors = 'coerce')\n",
    "m_golden = m[(m['date_published']>'1927-01-01')&(m['date_published']<'1969-12-31')]\n",
    "m_golden = m_golden[['original_title', 'avg_vote', 'metascore']].rename(columns={'original_title':'title'})\n",
    "m_golden.dropna().head()"
   ]
  },
  {
   "cell_type": "code",
   "execution_count": 100,
   "metadata": {},
   "outputs": [
    {
     "data": {
      "text/html": [
       "<div>\n",
       "<style scoped>\n",
       "    .dataframe tbody tr th:only-of-type {\n",
       "        vertical-align: middle;\n",
       "    }\n",
       "\n",
       "    .dataframe tbody tr th {\n",
       "        vertical-align: top;\n",
       "    }\n",
       "\n",
       "    .dataframe thead th {\n",
       "        text-align: right;\n",
       "    }\n",
       "</style>\n",
       "<table border=\"1\" class=\"dataframe\">\n",
       "  <thead>\n",
       "    <tr style=\"text-align: right;\">\n",
       "      <th></th>\n",
       "      <th>avg_vote</th>\n",
       "      <th>metascore</th>\n",
       "      <th>Winner</th>\n",
       "    </tr>\n",
       "    <tr>\n",
       "      <th>title</th>\n",
       "      <th></th>\n",
       "      <th></th>\n",
       "      <th></th>\n",
       "    </tr>\n",
       "  </thead>\n",
       "  <tbody>\n",
       "    <tr>\n",
       "      <th>12 Angry Men</th>\n",
       "      <td>8.9</td>\n",
       "      <td>96.0</td>\n",
       "      <td>0.0</td>\n",
       "    </tr>\n",
       "    <tr>\n",
       "      <th>13 Ghosts</th>\n",
       "      <td>6.1</td>\n",
       "      <td>56.0</td>\n",
       "      <td>0.0</td>\n",
       "    </tr>\n",
       "    <tr>\n",
       "      <th>20,000 Leagues Under the Sea</th>\n",
       "      <td>7.2</td>\n",
       "      <td>83.0</td>\n",
       "      <td>0.0</td>\n",
       "    </tr>\n",
       "    <tr>\n",
       "      <th>2001: A Space Odyssey</th>\n",
       "      <td>8.3</td>\n",
       "      <td>84.0</td>\n",
       "      <td>0.0</td>\n",
       "    </tr>\n",
       "    <tr>\n",
       "      <th>42nd Street</th>\n",
       "      <td>7.4</td>\n",
       "      <td>83.0</td>\n",
       "      <td>0.0</td>\n",
       "    </tr>\n",
       "  </tbody>\n",
       "</table>\n",
       "</div>"
      ],
      "text/plain": [
       "                              avg_vote  metascore  Winner\n",
       "title                                                    \n",
       "12 Angry Men                       8.9       96.0     0.0\n",
       "13 Ghosts                          6.1       56.0     0.0\n",
       "20,000 Leagues Under the Sea       7.2       83.0     0.0\n",
       "2001: A Space Odyssey              8.3       84.0     0.0\n",
       "42nd Street                        7.4       83.0     0.0"
      ]
     },
     "execution_count": 100,
     "metadata": {},
     "output_type": "execute_result"
    }
   ],
   "source": [
    "a = pd.read_csv('oscars.csv')\n",
    "a = a[['Winner', 'Film']]\n",
    "a['Winner'] = a['Winner'].apply(nan_fix)\n",
    "a = a.rename(columns={\"Film\": \"title\"})\n",
    "\n",
    "# golden age of film df\n",
    "merge_golden = m_golden.merge(a, how='left', on = 'title')\n",
    "merge_golden = merge_golden.dropna(subset=['metascore'])\n",
    "merge_golden['Winner'] = merge_golden['Winner'].fillna(0)\n",
    "\n",
    "merge_golden = merge_golden.groupby('title').agg(np.mean)\n",
    "merge_golden.head()"
   ]
  },
  {
   "cell_type": "code",
   "execution_count": 105,
   "metadata": {},
   "outputs": [
    {
     "data": {
      "text/html": [
       "<div>\n",
       "<style scoped>\n",
       "    .dataframe tbody tr th:only-of-type {\n",
       "        vertical-align: middle;\n",
       "    }\n",
       "\n",
       "    .dataframe tbody tr th {\n",
       "        vertical-align: top;\n",
       "    }\n",
       "\n",
       "    .dataframe thead th {\n",
       "        text-align: right;\n",
       "    }\n",
       "</style>\n",
       "<table border=\"1\" class=\"dataframe\">\n",
       "  <thead>\n",
       "    <tr style=\"text-align: right;\">\n",
       "      <th></th>\n",
       "      <th>title</th>\n",
       "      <th>avg_vote</th>\n",
       "      <th>metascore</th>\n",
       "    </tr>\n",
       "  </thead>\n",
       "  <tbody>\n",
       "    <tr>\n",
       "      <th>16013</th>\n",
       "      <td>El espíritu de la colmena</td>\n",
       "      <td>7.9</td>\n",
       "      <td>87.0</td>\n",
       "    </tr>\n",
       "    <tr>\n",
       "      <th>17454</th>\n",
       "      <td>Eraserhead</td>\n",
       "      <td>7.4</td>\n",
       "      <td>87.0</td>\n",
       "    </tr>\n",
       "    <tr>\n",
       "      <th>17546</th>\n",
       "      <td>The Killing of a Chinese Bookie</td>\n",
       "      <td>7.4</td>\n",
       "      <td>65.0</td>\n",
       "    </tr>\n",
       "    <tr>\n",
       "      <th>18048</th>\n",
       "      <td>The Kentucky Fried Movie</td>\n",
       "      <td>6.5</td>\n",
       "      <td>61.0</td>\n",
       "    </tr>\n",
       "    <tr>\n",
       "      <th>18488</th>\n",
       "      <td>I Wanna Hold Your Hand</td>\n",
       "      <td>6.9</td>\n",
       "      <td>64.0</td>\n",
       "    </tr>\n",
       "  </tbody>\n",
       "</table>\n",
       "</div>"
      ],
      "text/plain": [
       "                                 title  avg_vote  metascore\n",
       "16013        El espíritu de la colmena       7.9       87.0\n",
       "17454                       Eraserhead       7.4       87.0\n",
       "17546  The Killing of a Chinese Bookie       7.4       65.0\n",
       "18048         The Kentucky Fried Movie       6.5       61.0\n",
       "18488           I Wanna Hold Your Hand       6.9       64.0"
      ]
     },
     "execution_count": 105,
     "metadata": {},
     "output_type": "execute_result"
    }
   ],
   "source": [
    "m_home = m[(m['date_published']>'1980-01-01')&(m['date_published']<'2000-12-31')]\n",
    "m_home = m_home[['original_title', 'avg_vote', 'metascore']].rename(columns={'original_title':'title'})\n",
    "m_home.dropna().head()"
   ]
  },
  {
   "cell_type": "code",
   "execution_count": 112,
   "metadata": {},
   "outputs": [
    {
     "data": {
      "text/html": [
       "<div>\n",
       "<style scoped>\n",
       "    .dataframe tbody tr th:only-of-type {\n",
       "        vertical-align: middle;\n",
       "    }\n",
       "\n",
       "    .dataframe tbody tr th {\n",
       "        vertical-align: top;\n",
       "    }\n",
       "\n",
       "    .dataframe thead th {\n",
       "        text-align: right;\n",
       "    }\n",
       "</style>\n",
       "<table border=\"1\" class=\"dataframe\">\n",
       "  <thead>\n",
       "    <tr style=\"text-align: right;\">\n",
       "      <th></th>\n",
       "      <th>avg_vote</th>\n",
       "      <th>metascore</th>\n",
       "      <th>Winner</th>\n",
       "    </tr>\n",
       "    <tr>\n",
       "      <th>title</th>\n",
       "      <th></th>\n",
       "      <th></th>\n",
       "      <th></th>\n",
       "    </tr>\n",
       "  </thead>\n",
       "  <tbody>\n",
       "    <tr>\n",
       "      <th>$pent</th>\n",
       "      <td>5.1</td>\n",
       "      <td>34.0</td>\n",
       "      <td>0.0</td>\n",
       "    </tr>\n",
       "    <tr>\n",
       "      <th>'Breaker' Morant</th>\n",
       "      <td>7.8</td>\n",
       "      <td>72.0</td>\n",
       "      <td>0.0</td>\n",
       "    </tr>\n",
       "    <tr>\n",
       "      <th>'Crocodile' Dundee</th>\n",
       "      <td>6.6</td>\n",
       "      <td>62.0</td>\n",
       "      <td>0.0</td>\n",
       "    </tr>\n",
       "    <tr>\n",
       "      <th>'Crocodile' Dundee II</th>\n",
       "      <td>5.6</td>\n",
       "      <td>41.0</td>\n",
       "      <td>0.0</td>\n",
       "    </tr>\n",
       "    <tr>\n",
       "      <th>*batteries not included</th>\n",
       "      <td>6.7</td>\n",
       "      <td>54.0</td>\n",
       "      <td>0.0</td>\n",
       "    </tr>\n",
       "  </tbody>\n",
       "</table>\n",
       "</div>"
      ],
      "text/plain": [
       "                         avg_vote  metascore  Winner\n",
       "title                                               \n",
       "$pent                         5.1       34.0     0.0\n",
       "'Breaker' Morant              7.8       72.0     0.0\n",
       "'Crocodile' Dundee            6.6       62.0     0.0\n",
       "'Crocodile' Dundee II         5.6       41.0     0.0\n",
       "*batteries not included       6.7       54.0     0.0"
      ]
     },
     "execution_count": 112,
     "metadata": {},
     "output_type": "execute_result"
    }
   ],
   "source": [
    "merge_home = m_home.merge(a, how='left', on = 'title')\n",
    "merge_home = merge_home.dropna(subset=['metascore'])\n",
    "merge_home['Winner'] = merge_home['Winner'].fillna(0)\n",
    "\n",
    "merge_home = merge_home.groupby('title').agg(np.mean)\n",
    "merge_home.head()"
   ]
  },
  {
   "cell_type": "code",
   "execution_count": 117,
   "metadata": {},
   "outputs": [
    {
     "data": {
      "text/html": [
       "<div>\n",
       "<style scoped>\n",
       "    .dataframe tbody tr th:only-of-type {\n",
       "        vertical-align: middle;\n",
       "    }\n",
       "\n",
       "    .dataframe tbody tr th {\n",
       "        vertical-align: top;\n",
       "    }\n",
       "\n",
       "    .dataframe thead th {\n",
       "        text-align: right;\n",
       "    }\n",
       "</style>\n",
       "<table border=\"1\" class=\"dataframe\">\n",
       "  <thead>\n",
       "    <tr style=\"text-align: right;\">\n",
       "      <th></th>\n",
       "      <th>title</th>\n",
       "      <th>avg_vote</th>\n",
       "      <th>metascore</th>\n",
       "    </tr>\n",
       "  </thead>\n",
       "  <tbody>\n",
       "    <tr>\n",
       "      <th>15675</th>\n",
       "      <td>The Other Side of the Wind</td>\n",
       "      <td>6.8</td>\n",
       "      <td>78.0</td>\n",
       "    </tr>\n",
       "    <tr>\n",
       "      <th>21483</th>\n",
       "      <td>Kaze no tani no Naushika</td>\n",
       "      <td>8.1</td>\n",
       "      <td>86.0</td>\n",
       "    </tr>\n",
       "    <tr>\n",
       "      <th>23965</th>\n",
       "      <td>Hotaru no haka</td>\n",
       "      <td>8.5</td>\n",
       "      <td>94.0</td>\n",
       "    </tr>\n",
       "    <tr>\n",
       "      <th>35613</th>\n",
       "      <td>A Wake in Providence</td>\n",
       "      <td>5.6</td>\n",
       "      <td>46.0</td>\n",
       "    </tr>\n",
       "    <tr>\n",
       "      <th>38038</th>\n",
       "      <td>Out 1, noli me tangere</td>\n",
       "      <td>7.8</td>\n",
       "      <td>87.0</td>\n",
       "    </tr>\n",
       "  </tbody>\n",
       "</table>\n",
       "</div>"
      ],
      "text/plain": [
       "                            title  avg_vote  metascore\n",
       "15675  The Other Side of the Wind       6.8       78.0\n",
       "21483    Kaze no tani no Naushika       8.1       86.0\n",
       "23965              Hotaru no haka       8.5       94.0\n",
       "35613        A Wake in Providence       5.6       46.0\n",
       "38038      Out 1, noli me tangere       7.8       87.0"
      ]
     },
     "execution_count": 117,
     "metadata": {},
     "output_type": "execute_result"
    }
   ],
   "source": [
    "m_now = m[(m['date_published']>'2015-01-01')&(m['date_published']<'2020-12-31')]\n",
    "m_now = m_now[['original_title', 'avg_vote', 'metascore']].rename(columns={'original_title':'title'})\n",
    "m_now.dropna().head()"
   ]
  },
  {
   "cell_type": "code",
   "execution_count": 119,
   "metadata": {},
   "outputs": [
    {
     "data": {
      "text/html": [
       "<div>\n",
       "<style scoped>\n",
       "    .dataframe tbody tr th:only-of-type {\n",
       "        vertical-align: middle;\n",
       "    }\n",
       "\n",
       "    .dataframe tbody tr th {\n",
       "        vertical-align: top;\n",
       "    }\n",
       "\n",
       "    .dataframe thead th {\n",
       "        text-align: right;\n",
       "    }\n",
       "</style>\n",
       "<table border=\"1\" class=\"dataframe\">\n",
       "  <thead>\n",
       "    <tr style=\"text-align: right;\">\n",
       "      <th></th>\n",
       "      <th>avg_vote</th>\n",
       "      <th>metascore</th>\n",
       "      <th>Winner</th>\n",
       "    </tr>\n",
       "    <tr>\n",
       "      <th>title</th>\n",
       "      <th></th>\n",
       "      <th></th>\n",
       "      <th></th>\n",
       "    </tr>\n",
       "  </thead>\n",
       "  <tbody>\n",
       "    <tr>\n",
       "      <th>#Horror</th>\n",
       "      <td>3.0</td>\n",
       "      <td>42.0</td>\n",
       "      <td>0.0</td>\n",
       "    </tr>\n",
       "    <tr>\n",
       "      <th>'71</th>\n",
       "      <td>7.2</td>\n",
       "      <td>83.0</td>\n",
       "      <td>0.0</td>\n",
       "    </tr>\n",
       "    <tr>\n",
       "      <th>(Dean)</th>\n",
       "      <td>6.2</td>\n",
       "      <td>58.0</td>\n",
       "      <td>0.0</td>\n",
       "    </tr>\n",
       "    <tr>\n",
       "      <th>(M)uchenik</th>\n",
       "      <td>6.8</td>\n",
       "      <td>76.0</td>\n",
       "      <td>0.0</td>\n",
       "    </tr>\n",
       "    <tr>\n",
       "      <th>10 Cent Pistol</th>\n",
       "      <td>4.8</td>\n",
       "      <td>37.0</td>\n",
       "      <td>0.0</td>\n",
       "    </tr>\n",
       "  </tbody>\n",
       "</table>\n",
       "</div>"
      ],
      "text/plain": [
       "                avg_vote  metascore  Winner\n",
       "title                                      \n",
       "#Horror              3.0       42.0     0.0\n",
       "'71                  7.2       83.0     0.0\n",
       "(Dean)               6.2       58.0     0.0\n",
       "(M)uchenik           6.8       76.0     0.0\n",
       "10 Cent Pistol       4.8       37.0     0.0"
      ]
     },
     "execution_count": 119,
     "metadata": {},
     "output_type": "execute_result"
    }
   ],
   "source": [
    "merge_now = m_now.merge(a, how='left', on = 'title')\n",
    "merge_now = merge_now.dropna(subset=['metascore'])\n",
    "merge_now['Winner'] = merge_now['Winner'].fillna(0)\n",
    "\n",
    "merge_now = merge_now.groupby('title').agg(np.mean)\n",
    "merge_now.head()"
   ]
  },
  {
   "cell_type": "code",
   "execution_count": 124,
   "metadata": {},
   "outputs": [
    {
     "data": {
      "text/plain": [
       "<matplotlib.legend.Legend at 0x7fcd75e56a90>"
      ]
     },
     "execution_count": 124,
     "metadata": {},
     "output_type": "execute_result"
    },
    {
     "data": {
      "image/png": "[encoded data removed]",
      "text/plain": [
       "<Figure size 1800x360 with 3 Axes>"
      ]
     },
     "metadata": {
      "needs_background": "light"
     },
     "output_type": "display_data"
    }
   ],
   "source": [
    "fig2, (ax2, ax3, ax4) = plt.subplots(1,3, figsize=[25,5])\n",
    "\n",
    "# golden age\n",
    "test_golden = merge_golden\n",
    "lame_movies_golden = test_golden[test_golden['Winner'] == 0]\n",
    "good_movies_golden = test_golden[test_golden['Winner'] != 0]\n",
    "ax2.scatter(lame_movies_golden['metascore'], lame_movies_golden['avg_vote'], s=1, color='olivedrab')\n",
    "ax2.scatter(good_movies_golden['metascore'], good_movies_golden['avg_vote'], s=10, color='orchid')\n",
    "ax2.set_title('Metascore vs. User Ratings in the Golden Age of Hollywood', fontsize=14)\n",
    "ax2.set_xlabel('Metascore', fontsize=12)\n",
    "ax2.set_ylabel('User Rating', fontsize=12)\n",
    "\n",
    "# rise of home videos\n",
    "test_home = merge_home\n",
    "lame_movies_home = test_home[test_home['Winner'] == 0]\n",
    "good_movies_home = test_home[test_home['Winner'] != 0]\n",
    "ax3.scatter(lame_movies_home['metascore'], lame_movies_home['avg_vote'], s=1, color='olivedrab')\n",
    "ax3.scatter(good_movies_home['metascore'], good_movies_home['avg_vote'], s=10, color='orchid')\n",
    "ax3.set_title('Metascore vs. User Ratings in the Rise of Home Video Era', fontsize=14)\n",
    "ax3.set_xlabel('Metascore', fontsize=12)\n",
    "ax3.set_ylabel('User Rating', fontsize=12)\n",
    "\n",
    "# last 5 years\n",
    "test_now = merge_now\n",
    "lame_movies_now = test_now[test_now['Winner'] == 0]\n",
    "good_movies_now = test_now[test_now['Winner'] != 0]\n",
    "ax4.scatter(lame_movies_now['metascore'], lame_movies_now['avg_vote'], s=1, color='olivedrab')\n",
    "ax4.scatter(good_movies_now['metascore'], good_movies_now['avg_vote'], s=10, color='orchid')\n",
    "ax4.set_title('Metascore vs. User Ratings in the Last Five Years', fontsize=14)\n",
    "ax4.set_xlabel('Metascore', fontsize=12)\n",
    "ax4.set_ylabel('User Rating', fontsize=12)\n",
    "\n",
    "fig2.legend(['not nominated', 'nominated/won'], loc='upper right')"
   ]
  },
  {
   "cell_type": "code",
   "execution_count": null,
   "metadata": {},
   "outputs": [],
   "source": [
    "#something to consider: movies being nominated for more awards? so less datapoints\n",
    "# see average number of nominations per movie per time period\n",
    "\n"
   ]
  }
 ],
 "metadata": {
  "kernelspec": {
   "display_name": "Python 3",
   "language": "python",
   "name": "python3"
  },
  "language_info": {
   "codemirror_mode": {
    "name": "ipython",
    "version": 3
   },
   "file_extension": ".py",
   "mimetype": "text/x-python",
   "name": "python",
   "nbconvert_exporter": "python",
   "pygments_lexer": "ipython3",
   "version": "3.7.3"
  }
 },
 "nbformat": 4,
 "nbformat_minor": 4
}
